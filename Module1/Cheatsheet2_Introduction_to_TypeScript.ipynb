{
  "nbformat": 4,
  "nbformat_minor": 0,
  "metadata": {
    "colab": {
      "provenance": []
    },
    "kernelspec": {
      "name": "python3",
      "display_name": "Python 3"
    },
    "language_info": {
      "name": "python"
    }
  },
  "cells": [
    {
      "cell_type": "markdown",
      "source": [
        "* Typescript is the exciting dynamic new language from Microsoft typescript is a language that is meant to be compiled into javascript.\n",
        "\n",
        "* For some projects typescript may be the right choice before watching this series of tutorials, You should decide if typescript makes sense for you.\n",
        "\n",
        "* Typescript is similar in syntax to javascript.\n",
        "\n",
        "\n",
        "* They have lots of support available for typescript developers typescript is an open source library by Microsoft.\n",
        "\n",
        "* So you know that it's supported by a solid team of helpers and that critical bugs are fixed in a timely manner.\n"
      ],
      "metadata": {
        "id": "XkDEAp72_cXZ"
      }
    },
    {
      "cell_type": "markdown",
      "source": [
        "# **Usage of TypeScript:**\n",
        "\n",
        "* Typescipt is used in many large projects e.g. WinJS and Angular JS.\n",
        "\n",
        "* WinJS is a language that is used for programming in Windows you can use this to make stuff on Windows Phone or Windows 10.\n",
        "\n",
        "* It's very valuable to learn this because in the future there will be little competition before WinJS apps catch on.\n",
        "\n",
        "* WinJS is written in typescript.\n",
        "\n",
        "* The reason primarily why you use it is to prevent bugs from appearing in your code.\n",
        "\n",
        "* Bugs on the front end for javascript are very common and tend to be difficult to debug due to javascript's dynamic and hyped format using typescript.\n",
        "\n",
        "* You can lock variables to certain conditions such as being a string or a number and the typescript compiler will warn you if you are attempting to compile code in which erroneous functions are being attempted to be called."
      ],
      "metadata": {
        "id": "XsR2LcV__cZ5"
      }
    },
    {
      "cell_type": "markdown",
      "source": [
        "# **Task Runners:**\n",
        "\n",
        "* A task runner is a tool that helps you automate repetitive tasks in web development. These tasks can include things like:\n",
        "\n",
        "  1. **Minifying files** (making JavaScript or CSS files smaller for faster loading).\n",
        "\n",
        "  2. **Compiling code** (e.g., converting TypeScript or Sass/SCSS into JavaScript or CSS).\n",
        "  \n",
        "  3. **Watching files** (monitoring for changes in files and automatically running tasks like rebuilding).\n",
        "\n",
        "  4. **Running tests** (automating unit tests or other checks).\n",
        "\n",
        "**Example of Tasks:**\n",
        "\n",
        "* Instead of manually compressing images before adding them to your website, a task runner can automatically do that for you with one command.\n",
        "\n",
        "> If you need to compile TypeScript into JavaScript every time you save a file, a task runner can watch your files and recompile them automatically.\n",
        "\n",
        "**How It Works:**\n",
        "\n",
        "> You write a list of tasks or functions (usually in a configuration file) that the task runner will execute. Once you run the task runner, it performs these tasks for you, saving you time and effort.\n",
        "\n",
        "**Popular Task Runners:**\n",
        "\n",
        "1. Grunt: Configuration-based task runner where you define tasks in a JSON format.\n",
        "\n",
        "2. Gulp: Code-based task runner where you write tasks as JavaScript functions.\n",
        "\n",
        "**The bottom line is that by integrating with these libraries of task runners, it eliminates any compilation step that must be done manually.**"
      ],
      "metadata": {
        "id": "iClKOWuW_cde"
      }
    },
    {
      "cell_type": "markdown",
      "source": [
        "# ***Finally typescript can be and has been integrated with common task runners including grunt and glup.***"
      ],
      "metadata": {
        "id": "ZopsUdRK_cgs"
      }
    },
    {
      "cell_type": "markdown",
      "source": [
        "* If you're building a larger project if you're say writing one or two pages of javascript 300 lines then you might not need typescript because you can probably manage that complexity with just javascript.\n",
        "\n",
        "* But if you're looking at a project that may be 10000 lines or more of code then you're going to for sure want to at least know about typescript to make sure that it's not a valuable option that you're overlooking."
      ],
      "metadata": {
        "id": "ULWtklXd_ckK"
      }
    }
  ]
}