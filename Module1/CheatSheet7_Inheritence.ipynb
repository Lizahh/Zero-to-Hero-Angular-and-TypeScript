{
  "nbformat": 4,
  "nbformat_minor": 0,
  "metadata": {
    "colab": {
      "provenance": []
    },
    "kernelspec": {
      "name": "python3",
      "display_name": "Python 3"
    },
    "language_info": {
      "name": "python"
    }
  },
  "cells": [
    {
      "cell_type": "markdown",
      "source": [
        "# **A class can extend another class, which means it inherits its properties and methods and can define its own methods or properties as well.**"
      ],
      "metadata": {
        "id": "htGJW7fJINbY"
      }
    },
    {
      "cell_type": "markdown",
      "source": [
        "\n",
        "\n",
        "```\n",
        "class Person {\n",
        "\n",
        "    name: string;\n",
        "    constructor(name: string){\n",
        "\n",
        "        this.name = name;\n",
        "    }\n",
        "\n",
        "    letsdance()\n",
        "    {\n",
        "        console.log(`${this.name} is dancing.`);\n",
        "\n",
        "    }\n",
        "}\n",
        "\n",
        "class AwesomePerson extends Person {\n",
        "\n",
        "    letsdance()\n",
        "    {\n",
        "        console.log(`Wow its awesome.`);\n",
        "\n",
        "\n",
        "    }\n",
        "}\n",
        "\n",
        "let newperson = new AwesomePerson(\"Aliza\");\n",
        "newperson.letsdance();\n",
        "```\n",
        "Don't need to write name variable again for extended class because it is already inheriting all methods and variables of base/super class Person.\n",
        "\n",
        "\n",
        "![image.png](data:image/png;base64,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)"
      ],
      "metadata": {
        "id": "DAV-oiaeINhz"
      }
    },
    {
      "cell_type": "markdown",
      "source": [
        "* If we want to use method/variable anything of super class in child class, you can use the keyword \"super.\" for it:\n",
        "\n",
        "\n",
        "\n",
        "```\n",
        "class Person {\n",
        "\n",
        "    name: string;\n",
        "    constructor(name: string){\n",
        "\n",
        "        this.name = name;\n",
        "    }\n",
        "\n",
        "    letsdance()\n",
        "    {\n",
        "        console.log(`${this.name} is dancing.`);\n",
        "\n",
        "    }\n",
        "}\n",
        "\n",
        "class AwesomePerson extends Person {\n",
        "\n",
        "    letsdance()\n",
        "    {\n",
        "        console.log(`Wow its awesome.`);\n",
        "        super.letsdance();\n",
        "\n",
        "\n",
        "    }\n",
        "}\n",
        "\n",
        "let newperson = new AwesomePerson(\"Aliza\");\n",
        "newperson.letsdance();\n",
        "```\n",
        "\n",
        "![image.png](data:image/png;base64,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)"
      ],
      "metadata": {
        "id": "togOy-wEINl0"
      }
    },
    {
      "cell_type": "markdown",
      "source": [
        "# **Access Modifiers: public, protected, and private**\n",
        "\n",
        "* You can control the visibility of properties and methods in the parent class using access modifiers.\n",
        "\n",
        "1. public: Can be accessed anywhere, both inside and outside the class.\n",
        "\n",
        "2. protected: Can only be accessed within the class and its derived (child) classes.\n",
        "\n",
        "3. private: Can only be accessed within the class itself (not in child classes).\n"
      ],
      "metadata": {
        "id": "j1WA922HINou"
      }
    },
    {
      "cell_type": "code",
      "source": [
        "class Animal {\n",
        "  public name: string; # Can be accessed anywhere\n",
        "  protected age: number; # Can only be accessed in Animal and its subclasses\n",
        "  private sound: string; # Can only be accessed within Animal class\n",
        "\n",
        "  constructor(name: string, age: number, sound: string) {\n",
        "    this.name = name;\n",
        "    this.age = age;\n",
        "    this.sound = sound;\n",
        "  }\n",
        "\n",
        "  # Method that can be used by child classes\n",
        "  makeSound() {\n",
        "    console.log(this.sound);\n",
        "  }\n",
        "}\n",
        "\n",
        "class Dog extends Animal {\n",
        "  constructor(name: string, age: number, sound: string) {\n",
        "    super(name, age, sound);\n",
        "  }\n",
        "\n",
        "  # Accessing protected property\n",
        "  getAge() {\n",
        "    return `Age of ${this.name} is ${this.age} years.`;\n",
        "  }\n",
        "}\n",
        "\n",
        "const dog = new Dog(\"Buddy\", 5, \"Bark\");\n",
        "console.log(dog.getAge());  # Outputs: Age of Buddy is 5 years\n",
        "console.log(dog.sound); # Error: 'sound' is private and not accessible\n"
      ],
      "metadata": {
        "id": "hZO71lCJKvsZ"
      },
      "execution_count": null,
      "outputs": []
    },
    {
      "cell_type": "markdown",
      "source": [
        "# **Abstract Classes:**\n",
        "\n",
        "* An abstract class is a class that cannot be instantiated directly.\n",
        "\n",
        "* It serves as a blueprint for other classes to extend. Abstract classes can have abstract methods, which are methods that must be implemented by any child class.\n",
        "\n"
      ],
      "metadata": {
        "id": "qYxfl5RSINsP"
      }
    },
    {
      "cell_type": "code",
      "source": [
        "abstract class Animal {\n",
        "  abstract sound(): void;  // Abstract method\n",
        "\n",
        "  move() {\n",
        "    console.log(\"Moving...\");\n",
        "  }\n",
        "}\n",
        "\n",
        "class Dog extends Animal {\n",
        "  sound() {\n",
        "    console.log(\"Bark\");\n",
        "  }\n",
        "}\n",
        "\n",
        "const dog = new Dog();\n",
        "dog.sound();  // Outputs: Bark\n",
        "dog.move();   // Outputs: Moving...\n"
      ],
      "metadata": {
        "id": "aGY8auvgLI8_"
      },
      "execution_count": null,
      "outputs": []
    },
    {
      "cell_type": "markdown",
      "source": [
        "# **Multiple Inheritance (Not Supported):**\n",
        "\n",
        "TypeScript does not support multiple inheritance (where a class can inherit from more than one class). However, you can achieve similar behavior by using multiple interfaces in a class.\n",
        "\n",
        "\n",
        "\n"
      ],
      "metadata": {
        "id": "Mv2GaRv4INu_"
      }
    },
    {
      "cell_type": "code",
      "source": [
        "interface Flyable {\n",
        "  fly(): void;\n",
        "}\n",
        "\n",
        "interface Swimmable {\n",
        "  swim(): void;\n",
        "}\n",
        "\n",
        "class Duck implements Flyable, Swimmable {\n",
        "  fly() {\n",
        "    console.log(\"Duck is flying\");\n",
        "  }\n",
        "\n",
        "  swim() {\n",
        "    console.log(\"Duck is swimming\");\n",
        "  }\n",
        "}\n",
        "\n",
        "const duck = new Duck();\n",
        "duck.fly();   // Outputs: Duck is flying\n",
        "duck.swim();  // Outputs: Duck is swimming\n"
      ],
      "metadata": {
        "id": "_DLVNss0Lq3w"
      },
      "execution_count": null,
      "outputs": []
    },
    {
      "cell_type": "markdown",
      "source": [
        "# **Getter and Setter Methods:**\n",
        "\n",
        "* You can also use getters and setters to control access to properties.\n",
        "\n",
        "* Getter allows you to get the value of a property.\n",
        "* Setter allows you to set the value of a property."
      ],
      "metadata": {
        "id": "9xTmb4JVLzlc"
      }
    },
    {
      "cell_type": "code",
      "source": [
        "class Animal {\n",
        "  private nameValue: string;  // No underscore, just a different name for the private property\n",
        "\n",
        "  constructor(name: string) {\n",
        "    this.nameValue = name;\n",
        "  }\n",
        "\n",
        "  // Getter method\n",
        "  get name(): string {\n",
        "    return this.nameValue;\n",
        "  }\n",
        "\n",
        "  // Setter method\n",
        "  set name(newName: string) {\n",
        "    this.nameValue = newName;\n",
        "  }\n",
        "}\n",
        "\n",
        "const myAnimal = new Animal(\"Lion\");\n",
        "console.log(myAnimal.name); // Output: Lion\n",
        "\n",
        "myAnimal.name = \"Tiger\";\n",
        "console.log(myAnimal.name); // Output: Tiger\n"
      ],
      "metadata": {
        "id": "PsDYhvr_MWCM"
      },
      "execution_count": null,
      "outputs": []
    },
    {
      "cell_type": "markdown",
      "source": [
        "\n",
        "myAnimal.name = \"Tiger\";\n",
        "\n",
        "console.log(myAnimal.name); // Output: Tiger\n",
        "\n",
        "It automatically triggers/calls the setter function."
      ],
      "metadata": {
        "id": "wS-LeTAgMWna"
      }
    }
  ]
}