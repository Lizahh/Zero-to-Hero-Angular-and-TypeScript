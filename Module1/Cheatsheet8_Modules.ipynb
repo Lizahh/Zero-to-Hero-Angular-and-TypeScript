{
  "nbformat": 4,
  "nbformat_minor": 0,
  "metadata": {
    "colab": {
      "provenance": []
    },
    "kernelspec": {
      "name": "python3",
      "display_name": "Python 3"
    },
    "language_info": {
      "name": "python"
    }
  },
  "cells": [
    {
      "cell_type": "markdown",
      "source": [
        "# **Concept:**\n",
        "\n",
        "* Modules in TypeScript are a powerful way to organize and manage your code like you do in python.\n",
        "\n",
        "* They help keep your codebase clean, modular, and maintainable by splitting code into smaller, self-contained pieces.\n",
        "\n",
        "# **What are Modules?**\n",
        "\n",
        "* A module is a file that contains code. Each TypeScript file is considered a module **if it contains at least one export or import statement.**\n",
        "\n",
        "* Modules allow you to **group related code** (like functions, classes, interfaces, or variables) and then import them in other files to use them.\n",
        "\n"
      ],
      "metadata": {
        "id": "APIthme6rK9b"
      }
    },
    {
      "cell_type": "markdown",
      "source": [
        "# **Syntax for Exporting and Importing Modules:**\n",
        "\n",
        "## **1. Exporting Code**\n",
        "There are two types of exports:\n",
        "\n",
        "### **a. Named Exports:**\n",
        "With named exports, you can export multiple variables, functions, classes, etc., from a single module by using the export keyword. It is normal export.\n"
      ],
      "metadata": {
        "id": "8yMS390Qx_AS"
      }
    },
    {
      "cell_type": "code",
      "source": [
        "// file: mathUtils.ts\n",
        "export function add(x: number, y: number): number {\n",
        "  return x + y;\n",
        "}\n",
        "// export function add(x, y) {\n",
        "//  return x + y;\n",
        "// }\n",
        "\n",
        "\n",
        "export function subtract(x: number, y: number): number {\n",
        "  return x - y;\n",
        "}\n",
        "\n",
        "export const PI = 3.14;\n"
      ],
      "metadata": {
        "id": "It0_Z4IezM6E"
      },
      "execution_count": null,
      "outputs": []
    },
    {
      "cell_type": "markdown",
      "source": [],
      "metadata": {
        "id": "YyK3mzLQrLFN"
      }
    },
    {
      "cell_type": "markdown",
      "source": [],
      "metadata": {
        "id": "qh8QCUiVrLJj"
      }
    },
    {
      "cell_type": "markdown",
      "source": [],
      "metadata": {
        "id": "_XSG7aPhrLOY"
      }
    },
    {
      "cell_type": "markdown",
      "source": [],
      "metadata": {
        "id": "E2wmhatGrLSH"
      }
    }
  ]
}