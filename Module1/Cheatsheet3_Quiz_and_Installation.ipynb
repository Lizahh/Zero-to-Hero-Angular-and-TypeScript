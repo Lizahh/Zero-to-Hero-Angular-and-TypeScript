{
  "nbformat": 4,
  "nbformat_minor": 0,
  "metadata": {
    "colab": {
      "provenance": []
    },
    "kernelspec": {
      "name": "python3",
      "display_name": "Python 3"
    },
    "language_info": {
      "name": "python"
    }
  },
  "cells": [
    {
      "cell_type": "markdown",
      "source": [
        "# **Question 1:**\n",
        "TypeScript is a library which is backed primarily by...\n",
        "\n",
        "A. Google\n",
        "\n",
        "B. Microsoft\n",
        "\n",
        "C. Facebook\n",
        "\n",
        "Answer: Microsoft"
      ],
      "metadata": {
        "id": "xFHIbhWsDJhC"
      }
    },
    {
      "cell_type": "markdown",
      "source": [
        "# **Question 2:**\n",
        "\n",
        "Which programs can be used to automatically compile TypeScript?\n",
        "\n",
        "A. Gulp\n",
        "\n",
        "B. Grunt\n",
        "\n",
        "C. Broccoli\n",
        "\n",
        "D. All of the above\n",
        "\n",
        "Answer: Gulp"
      ],
      "metadata": {
        "id": "_WxQfhAdDJli"
      }
    },
    {
      "cell_type": "markdown",
      "source": [
        "# **Question 3:**\n",
        "\n",
        "TypeScript is used primarily with what backend language?\n",
        "\n",
        "A. Node\n",
        "\n",
        "B. Ruby\n",
        "\n",
        "C. Python\n",
        "\n",
        "Answer: Node"
      ],
      "metadata": {
        "id": "pvx_Ug-sDJoz"
      }
    },
    {
      "cell_type": "markdown",
      "source": [
        "# **Installation:**"
      ],
      "metadata": {
        "id": "bz6hvLwiDJrY"
      }
    },
    {
      "cell_type": "markdown",
      "source": [
        "* The reason why we install typescript is so that we can compile .ts or typescript files into .js. or javascript files\n",
        "\n",
        "* Javascript files can be read by web browsers like chrome or Firefox. However typescript files can not.\n",
        "\n",
        "# **Step 1: Download and Install Node.js**\n",
        "\n",
        "1. Go to https://nodejs.org/en/download\n",
        "\n",
        "2. Download Windows Installer (.msi) and install it.\n",
        "\n",
        "3. Type \"node -v\" in cmd and check if it returns version it means node.js has been installed.\n",
        "\n",
        "\n",
        "\n"
      ],
      "metadata": {
        "id": "m_GWOGulDJty"
      }
    },
    {
      "cell_type": "markdown",
      "source": [
        "# **Step 2: Install Typescript**\n",
        "\n",
        "1. With node installed you can install typescript on your computer by typing\n",
        "\n",
        "    npm install -g typescript\n",
        "\n",
        "2. NPM stands for node package modules or node package manager depending on whom you ask and it's an application that will go online find typescript and install it on our computer for us.\n",
        "\n",
        "3. The G flag stands for Global and that means we want to install typescript in the root directory so it will be available for every application.\n",
        "\n",
        "4. Enter this on cmd: tsc\n",
        "\n",
        "Tsc stands for Type Script Compiler. We're going to use this in a later tutorial to compile a first typescript application.\n",
        "\n"
      ],
      "metadata": {
        "id": "qgK9_6tbFLow"
      }
    }
  ]
}